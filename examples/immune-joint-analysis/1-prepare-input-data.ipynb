{
 "cells": [
  {
   "cell_type": "code",
   "execution_count": 1,
   "id": "9715d055-1f46-4740-afcf-65dea026c0b5",
   "metadata": {},
   "outputs": [],
   "source": [
    "from jointly_hic.notebook_utils.encode_utils import EncodeFile"
   ]
  },
  {
   "cell_type": "code",
   "execution_count": null,
   "id": "29f8a2d1-1adc-46c9-807b-e28ad4bffde5",
   "metadata": {},
   "outputs": [],
   "source": []
  }
 ],
 "metadata": {
  "kernelspec": {
   "display_name": "Python 3 (ipykernel)",
   "language": "python",
   "name": "python3"
  },
  "language_info": {
   "codemirror_mode": {
    "name": "ipython",
    "version": 3
   },
   "file_extension": ".py",
   "mimetype": "text/x-python",
   "name": "python",
   "nbconvert_exporter": "python",
   "pygments_lexer": "ipython3",
   "version": "3.12.4"
  }
 },
 "nbformat": 4,
 "nbformat_minor": 5
}
