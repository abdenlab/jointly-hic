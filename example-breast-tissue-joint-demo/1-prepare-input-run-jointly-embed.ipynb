{
 "cells": [
  {
   "cell_type": "markdown",
   "id": "c4125e5d-efac-4389-a262-753275f4fd14",
   "metadata": {},
   "source": [
    "# Analyzing T-Cell Hi-C Data with `jointly-hic`\n",
    "\n",
    "This notebook demonstrates how to use the `jointly-hic` toolkit to jointly embed Hi-C contact matrices generated from HiC data on from the paper *Choppavarapu, Lavanya et al. Cell Reports*.\n",
    "\n",
    "## Background\n",
    "\n",
    "Hi-C is a genome-wide chromosome conformation capture method that quantifies 3D chromatin contacts. It provides a matrix of contact frequencies between genomic bins. By embedding these matrices into a low-dimensional space, we can compare 3D chromatin structure across different conditions and cell types.\n",
    "\n",
    "In this demo, we:\n",
    "- Map the Hi-C data of 12 breast tissues(2 normal, 5 primary tumors, 5 recurrent tumors) from *Choppavarapu L et al. Cell Rep. 2025* using [`distiller-nf`](https://github.com/open2c/distiller-nf)\n",
    "- Prepare for downstream embedding with `jointly-hic`\n",
    "\n",
    "## Setup\n",
    "\n",
    "To run this notebook, you will need the following Python packages and command-line tools:\n",
    "\n",
    "### Python Packages\n",
    "- `jointly-hic`: For joint embedding and analysis of Hi-C data\n",
    "- `cooler`: For handling `.cool` and `.mcool` Hi-C files\n",
    "- `cooltools`: Additional utilities for Hi-C file operations and balancing\n",
    "- `pandas`, `numpy`, etc. (installed as dependencies)\n",
    "\n",
    "Install them using pip:\n",
    "\n",
    "```bash\n",
    "pip install jointly-hic cooler\n",
    "```\n",
    "\n",
    "### Command-Line Tools -- distiller-nf\n",
    "This tool is a modular Hi-C mapping pipeline\n",
    "To setup a new project, execute the following line in the project folder:\n",
    "```\n",
    "$ nextflow clone open2c/distiller-nf ./\n",
    "```\n",
    "After installation, follow instruction here: (https://github.com/open2c/distiller-nf)\n",
    "The folder of this demo also inlucdes the file `project.yml` for:\n",
    "```\n",
    "$ nextflow run distiller.nf -params-file project.yml\n",
    "```\n"
   ]
  },
  {
   "cell_type": "code",
   "execution_count": 4,
   "id": "5819d638-469e-4a48-b527-21ed8ee1929b",
   "metadata": {},
   "outputs": [],
   "source": [
    "import subprocess\n",
    "from concurrent.futures import ThreadPoolExecutor, as_completed\n",
    "from pathlib import Path\n",
    "import pandas as pd\n",
    "\n",
    "from jointly_hic.notebook_utils.encode_utils import EncodeFile"
   ]
  },
  {
   "cell_type": "markdown",
   "id": "53a1e139-0bc4-49b2-9df3-af32c18777ce",
   "metadata": {},
   "source": [
    "## Joint Embedding of breast tissues Hi-C Matrices\n",
    "\n",
    "Now that we have obtained `.mcool` files for all 12 breast tissue samples, we can jointly embed these contact matrices into a low-dimensional vector space using `jointly-hic`.\n",
    "\n",
    "The `jointly embed` command performs out-of-core matrix decomposition using PCA (default), NMF, or SVD. It stacks contact matrices from all samples at a specified resolution and learns a shared representation that preserves biological variation across samples.\n",
    "\n",
    "We'll run it at a fairly course-resolution of 320 kb. Often results are desired at higher resolution such as 50 kb or even 25 kb if the data can support it. However, we'll get results faster at 320 kb. \n",
    "\n",
    "This embedding can then be used for:\n",
    "- Dimensionality reduction and visualization\n",
    "- Clustering and trajectory inference\n",
    "- Integration with RNA-seq, ATAC-seq, or ChIP-seq via JointDb\n",
    "\n",
    "In this example, we run `jointly embed` with:\n",
    "- Input: all `.mcool` files in `./data/`\n",
    "- Resolution: 320 kb\n",
    "- Assembly: `hg38`\n",
    "- Method: PCA\n",
    "- Components: 32\n",
    "\n",
    "Because these are clinical samples from female donors, to reduce noise and improve the quality of our outputs, we will exclude chrY and chrM while running `jointly embed`"
   ]
  },
  {
   "cell_type": "code",
   "execution_count": 3,
   "id": "675f171d-d10a-4191-98c0-684e1c92bf23",
   "metadata": {},
   "outputs": [],
   "source": [
    "import subprocess\n",
    "from pathlib import Path\n",
    "import pandas as pd\n",
    "\n"
   ]
  },
  {
   "cell_type": "code",
   "execution_count": null,
   "id": "6c868765-567c-4dc0-98b5-987ac452db70",
   "metadata": {},
   "outputs": [],
   "source": [
    "# Set up output directory\n",
    "output_dir = Path(\"./data\")\n",
    "output_dir.mkdir(parents=True, exist_ok=True)\n",
    "\n",
    "# Gather list of all mcool files\n",
    "mcool_files = sorted(Path(\"./\").glob(\"*.mcool\"))\n",
    "\n",
    "#run jointly embed excluding chrY and chrM by setting chrom_limit as 23\n",
    "\n",
    "cmd = [\n",
    "    \"jointly\",\n",
    "    \"embed\",\n",
    "    \"--mcools\",\n",
    "    *map(str, mcool_files),\n",
    "    \"--resolution\",\n",
    "    \"50000\",\n",
    "    \"--assembly\",\n",
    "    \"hg38\",\n",
    "    \"--method\",\n",
    "    \"PCA\",\n",
    "    \"--components\",\n",
    "    \"32\",\n",
    "    \"--chrom-limit\", \n",
    "    \"23\",\n",
    "    \"--output\",\n",
    "    \"data/breast-tissue-demo-output\",\n",
    "]\n",
    "\n",
    "print(\"Running:\", \" \".join(cmd))\n",
    "subprocess.run(cmd, check=True)"
   ]
  },
  {
   "cell_type": "code",
   "execution_count": null,
   "id": "ee630bb4-c0a9-4d16-b164-5c298889579e",
   "metadata": {},
   "outputs": [],
   "source": []
  }
 ],
 "metadata": {
  "kernelspec": {
   "display_name": "Python (jointly)",
   "language": "python",
   "name": "jointly"
  },
  "language_info": {
   "codemirror_mode": {
    "name": "ipython",
    "version": 3
   },
   "file_extension": ".py",
   "mimetype": "text/x-python",
   "name": "python",
   "nbconvert_exporter": "python",
   "pygments_lexer": "ipython3",
   "version": "3.12.9"
  }
 },
 "nbformat": 4,
 "nbformat_minor": 5
}
